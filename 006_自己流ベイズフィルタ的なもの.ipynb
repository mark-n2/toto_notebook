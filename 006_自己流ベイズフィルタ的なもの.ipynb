{
 "cells": [
  {
   "cell_type": "markdown",
   "metadata": {},
   "source": [
    "# 条件付き確率で考える\n",
    "\n",
    "単純ベイズ推定器を使ったクラスタリングをベースに、各条件における勝ち・負け・引き分けになる確率を計算し、それぞれを掛け合わせて一番高い確率のものを採用することにする。\n",
    "\n",
    "* [データ収集](001_データ収集.ipynb)で収集したデータを使う。\n",
    "* [データ加工](002_データ加工.ipynb)で加工済みとする。"
   ]
  },
  {
   "cell_type": "code",
   "execution_count": 1,
   "metadata": {},
   "outputs": [],
   "source": [
    "import download\n",
    "import process_data\n",
    "import pandas as pd\n",
    "df = download.get_db_data()\n",
    "df = process_data.processing_data(df)\n",
    "#display(df)"
   ]
  },
  {
   "cell_type": "markdown",
   "metadata": {},
   "source": [
    "# 符号化\n",
    "\n",
    "* チーム名・スタジアム名を符号化\n",
    "* 勝ち・負け・引き分けを符号化\n",
    "* 試合日を月のみ取得"
   ]
  },
  {
   "cell_type": "code",
   "execution_count": 2,
   "metadata": {},
   "outputs": [],
   "source": [
    "home = pd.concat([df[\"ホーム\"],df[\"アウェイ\"]]).drop_duplicates().reset_index(drop=True).to_dict()\n",
    "team_dict = {v:k for k, v in home.items()} # 辞書のキー・バリュー交換"
   ]
  },
  {
   "cell_type": "code",
   "execution_count": 3,
   "metadata": {},
   "outputs": [],
   "source": [
    "tmp = [team_dict[df[\"ホーム\"][i]] for i in range(len(df))]\n",
    "df[\"home\"] = tmp\n",
    "tmp = [team_dict[df[\"アウェイ\"][i]] for i in range(len(df))]\n",
    "df[\"away\"] = tmp\n",
    "#display(df)"
   ]
  },
  {
   "cell_type": "code",
   "execution_count": 4,
   "metadata": {},
   "outputs": [],
   "source": [
    "studium = df[\"スタジアム\"].drop_duplicates().reset_index(drop=True).to_dict()\n",
    "studium_dict = {v:k for k, v in studium.items()}"
   ]
  },
  {
   "cell_type": "code",
   "execution_count": 5,
   "metadata": {},
   "outputs": [],
   "source": [
    "tmp = [studium_dict[df[\"スタジアム\"][i]] for i in range(len(df))]\n",
    "df[\"studium\"] = tmp"
   ]
  },
  {
   "cell_type": "markdown",
   "metadata": {},
   "source": [
    "勝敗はホームチームの勝ち(WIN)、負け(LOSE)、引き分け(DRAW)の三種類に符号化する。  \n",
    "最終出力を獲得勝ち点で出力することを考え、WIN=3/DRAW=1/LOSE=0としておく。\n",
    "\n",
    "カップ戦とかでPK戦の結果も含まれているが、PKは引き分けととらえることにする。"
   ]
  },
  {
   "cell_type": "code",
   "execution_count": 6,
   "metadata": {},
   "outputs": [],
   "source": [
    "import re\n",
    "import numpy as np\n",
    "wdl = []\n",
    "# win-draw-lose VゴールとかPKとかはTOTO予想に関係ないので無視\n",
    "LOSE = 0\n",
    "DRAW = 1\n",
    "WIN = 3\n",
    "OTHER = np.nan\n",
    "for result in df[\"スコア\"]:\n",
    "    tmp = re.split(\"[-()]\",result)\n",
    "    if len(tmp) < 2: # X-Xという形式でないものはスルー\n",
    "        wdl.append(OTHER)\n",
    "        continue\n",
    "    if int(tmp[0]) > int(tmp[1]):\n",
    "        wdl.append(WIN)\n",
    "    elif int(tmp[0]) < int(tmp[1]):\n",
    "        wdl.append(LOSE)\n",
    "    else:\n",
    "        wdl.append(DRAW)\n",
    "df[\"result\"] = wdl\n",
    "#display(df)"
   ]
  },
  {
   "cell_type": "markdown",
   "metadata": {},
   "source": [
    "対戦した時期として、月の情報を入れるものとする。\n",
    "\n",
    "試合日から情報を検出する。"
   ]
  },
  {
   "cell_type": "code",
   "execution_count": 7,
   "metadata": {},
   "outputs": [],
   "source": [
    "month = []\n",
    "for match_day in df[\"試合日\"]:\n",
    "    tmp = match_day.split(\"/\")[0]\n",
    "    if tmp.isdigit() == True:\n",
    "        month.append(int(tmp))\n",
    "    else:\n",
    "        month.append(np.nan)\n",
    "df[\"month\"] = month\n",
    "#display(month)"
   ]
  },
  {
   "cell_type": "code",
   "execution_count": 8,
   "metadata": {},
   "outputs": [],
   "source": [
    "df = df.rename(columns={\"年度\":\"year\"})\n",
    "#display(df)"
   ]
  },
  {
   "cell_type": "markdown",
   "metadata": {},
   "source": [
    "使うデータを1992年~2016年に絞る。  \n",
    "2017年のデータは予測の正確性検証のために別にしておくため"
   ]
  },
  {
   "cell_type": "code",
   "execution_count": 9,
   "metadata": {},
   "outputs": [],
   "source": [
    "data = df[df[\"year\"] < 2017]"
   ]
  },
  {
   "cell_type": "markdown",
   "metadata": {},
   "source": [
    "結果の異常値を弾く。\n",
    "\n",
    "異常値としてNaN(np.nan)を使ったので、NaNを含む列をドロップする。"
   ]
  },
  {
   "cell_type": "code",
   "execution_count": 10,
   "metadata": {},
   "outputs": [],
   "source": [
    "data = data.dropna()"
   ]
  },
  {
   "cell_type": "markdown",
   "metadata": {},
   "source": [
    "ホームチームを限定して、入力データと2017年のデータを使った正解データを生成してみる。"
   ]
  },
  {
   "cell_type": "code",
   "execution_count": 11,
   "metadata": {},
   "outputs": [],
   "source": [
    "def generate_trainng_data(df, year=2017, home=None, away=None):\n",
    "    \"\"\"\n",
    "    ホームチームを指定し、学習用データ(指定した年度より前のデータから)を生成\n",
    "    \"\"\"\n",
    "    data = df[df[\"year\"] < year].dropna()\n",
    "    if home is not None and away is not None:\n",
    "        data = data[((data[\"ホーム\"]==home) | (data[\"アウェイ\"]==home))|((data[\"ホーム\"]==away) | (data[\"アウェイ\"]==away))]\n",
    "    x = data[[\"home\",\"away\",\"year\",\"month\",\"studium\"]]\n",
    "    y = data[\"result\"]\n",
    "    return x, y\n",
    "\n",
    "def generate_correct_data(df, year=2017, home=None, away=None):\n",
    "    \"\"\"\n",
    "    ホームチームを指定し、モデルの確からしさを検証するためのデータを生成\n",
    "    \"\"\"\n",
    "    data = df[df[\"year\"] == year].dropna()\n",
    "    if home is not None and away is not None:\n",
    "        data = data[((data[\"ホーム\"]==home) | (data[\"アウェイ\"]==home))|((data[\"ホーム\"]==away) | (data[\"アウェイ\"]==away))]\n",
    "    x = data[[\"home\",\"away\",\"year\",\"month\",\"studium\"]]\n",
    "    y = data[[\"result\"]]\n",
    "    return x, y"
   ]
  },
  {
   "cell_type": "markdown",
   "metadata": {},
   "source": [
    "## 検討する条件\n",
    "\n",
    "1. チームの通算成績における勝率(ベースの分布？)  \n",
    "$\\Rightarrow \\dfrac{勝利した数}{通算試合数}$\n",
    "2. 対戦相手を限定した場合の勝率  \n",
    "$\\Rightarrow \\dfrac{対戦相手に勝利した数}{対戦相手との通算試合数}$\n",
    "3. 試合開催が何月かで限定した場合の勝率  \n",
    "$\\Rightarrow \\dfrac{〇月の試合の中で勝利した数}{〇月に行われた試合数}$\n",
    "4. 試合開催がどのスタジアムで限定した勝率  \n",
    "$\\Rightarrow \\dfrac{指定スタジアムでの勝利数}{指定スタジアムでの試合数}$"
   ]
  },
  {
   "cell_type": "code",
   "execution_count": 11,
   "metadata": {},
   "outputs": [],
   "source": [
    "def get_team_data(team, df):\n",
    "    \"\"\"\n",
    "    指定したチームに関するデータのみ抽出する\n",
    "    \"\"\"\n",
    "    team_data = df[(df[\"ホーム\"]==team) | (df[\"アウェイ\"]==team)]\n",
    "    return team_data\n",
    "\n",
    "def get_win_data(team, df, result=3):\n",
    "    \"\"\"\n",
    "    指定したチームが勝利したデータのみ抽出する\n",
    "    引数resultを指定すると、引き分け/負けのデータも収集可能\n",
    "    \"\"\"\n",
    "    if result == 3:\n",
    "        win_data = df[((df[\"ホーム\"]==team) & (df[\"result\"]==3)) | ((df[\"アウェイ\"]==team) & (df[\"result\"]==0))]\n",
    "    elif result == 1:\n",
    "        win_data = df[(df[\"result\"]==1)]\n",
    "    elif result == 0:\n",
    "        win_data = df[((df[\"ホーム\"]==team) & (df[\"result\"]==0)) | ((df[\"アウェイ\"]==team) & (df[\"result\"]==3))]        \n",
    "    return win_data\n",
    "\n",
    "def get_studium_data(studium, df):\n",
    "    \"\"\"\n",
    "    指定したスタジアムでのデータのみ抽出する\n",
    "    \"\"\"\n",
    "    studium_data = df[(df[\"スタジアム\"]==studium)]\n",
    "    return studium_data\n",
    "\n",
    "def get_month_data(month, df):\n",
    "    \"\"\"\n",
    "    指定した月のデータのみ抽出する\n",
    "    \"\"\"\n",
    "    month_data = df[df[\"month\"]==month]\n",
    "    return month_data"
   ]
  },
  {
   "cell_type": "code",
   "execution_count": 12,
   "metadata": {},
   "outputs": [
    {
     "data": {
      "text/plain": [
       "'win'"
      ]
     },
     "metadata": {},
     "output_type": "display_data"
    }
   ],
   "source": [
    "def proba_all(team, data, index=\"all\"):\n",
    "    \"\"\"\n",
    "    全試合に関する勝率を計算\n",
    "    \"\"\"\n",
    "    team_data = get_team_data(team, data)\n",
    "    if len(team_data)==0:\n",
    "        return None\n",
    "    win_data = get_win_data(team, team_data, result=3)\n",
    "    draw_data = get_win_data(team, team_data, result=1)\n",
    "    lose_data = get_win_data(team, team_data, result=0)\n",
    "    ret = pd.DataFrame()\n",
    "    ret[\"win\"] = [len(win_data)/len(team_data)]\n",
    "    ret[\"draw\"] = [len(draw_data)/len(team_data)]\n",
    "    ret[\"lose\"] = [len(lose_data)/len(team_data)]\n",
    "    #print(len(win_data),len(draw_data),len(lose_data),len(team_data))\n",
    "    ret = ret.rename(index={0:index})\n",
    "    return ret\n",
    "\n",
    "def proba_oppotunity(team, oppotunity, data):\n",
    "    \"\"\"\n",
    "    対戦相手を限定した際の勝率を計算\n",
    "    \"\"\"\n",
    "    team_data = get_team_data(team, data)\n",
    "    team_data = get_team_data(oppotunity, team_data)\n",
    "    return proba_all(team, team_data,index=\"oppotunity\")\n",
    "\n",
    "def proba_month(team, month, data):\n",
    "    \"\"\"\n",
    "    開催日が何月かで限定した際の勝率を計算\n",
    "    \"\"\"\n",
    "    team_data = get_team_data(team, data)\n",
    "    month_data = get_month_data(month, team_data)\n",
    "    #display(month_data)\n",
    "    return proba_all(team,month_data,index=\"month\")\n",
    "\n",
    "def proba_quarter(team, month, data):\n",
    "    \"\"\"\n",
    "    開催月を四半期ごとに分けて勝率を計算\n",
    "    Jリーグはだいたい2月終わり～12月初めまで。12月からは天皇杯。\n",
    "    \"\"\"\n",
    "    QUARTERS = [[1,2,3],[4,5,6],[7,8,9],[10,11,12]]\n",
    "    if month >= 1 or month <= 3:\n",
    "        q = 0\n",
    "    elif month >= 4 and month <= 6:\n",
    "        q = 1\n",
    "    elif month >= 7 and month <= 9:\n",
    "        q = 2\n",
    "    else:\n",
    "        q = 3\n",
    "    team_data = get_team_data(team, data)\n",
    "    quarter_data = data[(data[\"month\"]==QUARTERS[q][0]) | (data[\"month\"]==QUARTERS[q][1]) | (data[\"month\"]==QUARTERS[q][2])]\n",
    "    #display(quarter_data)\n",
    "    return proba_all(team,quarter_data,index=\"quarter\")\n",
    "\n",
    "def proba_studium(team, studium, data):\n",
    "    \"\"\"\n",
    "    指定スタジアムでの試合に限定した勝率を計算\n",
    "    \"\"\"\n",
    "    team_data = get_team_data(team, data)\n",
    "    studium_data = get_studium_data(studium, team_data)\n",
    "    return proba_all(team, studium_data,index=\"studium\")\n",
    "\n",
    "HOME = \"川崎Ｆ\"\n",
    "AWAY = \"札幌\"\n",
    "STUDIUM = \"等々力\"\n",
    "tmp = pd.DataFrame()\n",
    "tmp = tmp.append(proba_all(HOME, df))\n",
    "tmp = tmp.append(proba_oppotunity(HOME, AWAY, df))\n",
    "tmp = tmp.append(proba_month(HOME,9,df))\n",
    "tmp = tmp.append(proba_studium(HOME, STUDIUM, df))\n",
    "display(tmp.product().idxmax())"
   ]
  },
  {
   "cell_type": "code",
   "execution_count": 13,
   "metadata": {},
   "outputs": [],
   "source": [
    "def prediction(home, away, month, studium, df):\n",
    "    tmp = pd.DataFrame()\n",
    "    proba = proba_all(home, df)\n",
    "    if proba is not None:\n",
    "        tmp = tmp.append(proba)\n",
    "    proba = proba_oppotunity(home, away, df)\n",
    "    if proba is not None:\n",
    "        tmp = tmp.append(proba)\n",
    "#    proba = proba_month(home, month, df)\n",
    "#    if proba is not None:\n",
    "#        tmp = tmp.append(proba)\n",
    "    proba = proba_quarter(home, month, df)\n",
    "    if proba is not None:\n",
    "        tmp = tmp.append(proba)\n",
    "    proba = proba_studium(home, studium, df)\n",
    "    if proba is not None:\n",
    "        tmp = tmp.append(proba)\n",
    "    return tmp.product().idxmax(), tmp"
   ]
  },
  {
   "cell_type": "code",
   "execution_count": 14,
   "metadata": {},
   "outputs": [
    {
     "name": "stdout",
     "output_type": "stream",
     "text": [
      "win\n"
     ]
    },
    {
     "data": {
      "text/html": [
       "<div>\n",
       "<style scoped>\n",
       "    .dataframe tbody tr th:only-of-type {\n",
       "        vertical-align: middle;\n",
       "    }\n",
       "\n",
       "    .dataframe tbody tr th {\n",
       "        vertical-align: top;\n",
       "    }\n",
       "\n",
       "    .dataframe thead th {\n",
       "        text-align: right;\n",
       "    }\n",
       "</style>\n",
       "<table border=\"1\" class=\"dataframe\">\n",
       "  <thead>\n",
       "    <tr style=\"text-align: right;\">\n",
       "      <th></th>\n",
       "      <th>win</th>\n",
       "      <th>draw</th>\n",
       "      <th>lose</th>\n",
       "    </tr>\n",
       "  </thead>\n",
       "  <tbody>\n",
       "    <tr>\n",
       "      <th>all</th>\n",
       "      <td>0.510230</td>\n",
       "      <td>0.186701</td>\n",
       "      <td>0.303069</td>\n",
       "    </tr>\n",
       "    <tr>\n",
       "      <th>oppotunity</th>\n",
       "      <td>0.761905</td>\n",
       "      <td>0.190476</td>\n",
       "      <td>0.047619</td>\n",
       "    </tr>\n",
       "    <tr>\n",
       "      <th>quarter</th>\n",
       "      <td>0.384615</td>\n",
       "      <td>0.269231</td>\n",
       "      <td>0.346154</td>\n",
       "    </tr>\n",
       "    <tr>\n",
       "      <th>studium</th>\n",
       "      <td>0.593176</td>\n",
       "      <td>0.186352</td>\n",
       "      <td>0.220472</td>\n",
       "    </tr>\n",
       "  </tbody>\n",
       "</table>\n",
       "</div>"
      ],
      "text/plain": [
       "                 win      draw      lose\n",
       "all         0.510230  0.186701  0.303069\n",
       "oppotunity  0.761905  0.190476  0.047619\n",
       "quarter     0.384615  0.269231  0.346154\n",
       "studium     0.593176  0.186352  0.220472"
      ]
     },
     "metadata": {},
     "output_type": "display_data"
    }
   ],
   "source": [
    "result, pred = prediction(\"川崎Ｆ\",\"札幌\",9,\"等々力\",df)\n",
    "print(result)\n",
    "display(pred)"
   ]
  },
  {
   "cell_type": "markdown",
   "metadata": {},
   "source": [
    "## アウェイチームから見た場合のデータも考える\n",
    "\n",
    "ここまでだとホームチームから見た場合の確率しか考えていないので、アウェイチームから見た場合も考えてみる。  \n",
    "確率の計算としては、単にHOME/AWAYを入れ替えるだけで同じような計算が可能。  \n",
    "全く同じ方法で当てはめてみる。"
   ]
  },
  {
   "cell_type": "code",
   "execution_count": 15,
   "metadata": {},
   "outputs": [
    {
     "name": "stdout",
     "output_type": "stream",
     "text": [
      "lose\n"
     ]
    },
    {
     "data": {
      "text/html": [
       "<div>\n",
       "<style scoped>\n",
       "    .dataframe tbody tr th:only-of-type {\n",
       "        vertical-align: middle;\n",
       "    }\n",
       "\n",
       "    .dataframe tbody tr th {\n",
       "        vertical-align: top;\n",
       "    }\n",
       "\n",
       "    .dataframe thead th {\n",
       "        text-align: right;\n",
       "    }\n",
       "</style>\n",
       "<table border=\"1\" class=\"dataframe\">\n",
       "  <thead>\n",
       "    <tr style=\"text-align: right;\">\n",
       "      <th></th>\n",
       "      <th>win</th>\n",
       "      <th>draw</th>\n",
       "      <th>lose</th>\n",
       "    </tr>\n",
       "  </thead>\n",
       "  <tbody>\n",
       "    <tr>\n",
       "      <th>all</th>\n",
       "      <td>0.374554</td>\n",
       "      <td>0.219976</td>\n",
       "      <td>0.405470</td>\n",
       "    </tr>\n",
       "    <tr>\n",
       "      <th>oppotunity</th>\n",
       "      <td>0.047619</td>\n",
       "      <td>0.190476</td>\n",
       "      <td>0.761905</td>\n",
       "    </tr>\n",
       "    <tr>\n",
       "      <th>quarter</th>\n",
       "      <td>0.386364</td>\n",
       "      <td>0.193182</td>\n",
       "      <td>0.420455</td>\n",
       "    </tr>\n",
       "    <tr>\n",
       "      <th>studium</th>\n",
       "      <td>0.083333</td>\n",
       "      <td>0.083333</td>\n",
       "      <td>0.833333</td>\n",
       "    </tr>\n",
       "  </tbody>\n",
       "</table>\n",
       "</div>"
      ],
      "text/plain": [
       "                 win      draw      lose\n",
       "all         0.374554  0.219976  0.405470\n",
       "oppotunity  0.047619  0.190476  0.761905\n",
       "quarter     0.386364  0.193182  0.420455\n",
       "studium     0.083333  0.083333  0.833333"
      ]
     },
     "metadata": {},
     "output_type": "display_data"
    }
   ],
   "source": [
    "result, pred = prediction(\"札幌\",\"川崎Ｆ\",9,\"等々力\",df)\n",
    "print(result)\n",
    "display(pred)"
   ]
  },
  {
   "cell_type": "markdown",
   "metadata": {},
   "source": [
    "## 結果の評価を行う\n",
    "\n",
    "結果はホーム側からみた予想とアウェイ側から見た予想が双方出てくるので、下のような関係性で最終結果を出すものとする。\n",
    "\n",
    "|アウェイ\\ホーム|WIN|DRAW|LOSE|\n",
    "|-------------|----|----|----|\n",
    "|WIN          |DRAW|LOSE|LOSE|\n",
    "|DRAW         |WIN |DRAW|LOSE|\n",
    "|LOSE         |WIN |WIN |DRAW|\n",
    "\n",
    "※最終結果はホームチームから見た結果\n",
    "\n",
    "2016年以前のデータを使い、2017年のデータを予測して、精度を評価する。  \n",
    "対象はJ1/J2とする。"
   ]
  },
  {
   "cell_type": "code",
   "execution_count": 16,
   "metadata": {},
   "outputs": [],
   "source": [
    "data = df[df[\"year\"] < 2017]\n",
    "data = data.dropna()\n",
    "answer = df[(df[\"year\"] == 2017) & ((df[\"大会\"]==\"Ｊ１\") | (df[\"大会\"]==\"Ｊ２\"))].reset_index()\n",
    "answer[\"result\"] = answer[\"result\"].replace(3,\"win\")\n",
    "answer[\"result\"] = answer[\"result\"].replace(1,\"draw\")\n",
    "answer[\"result\"] = answer[\"result\"].replace(0,\"lose\")\n",
    "#display(answer)"
   ]
  },
  {
   "cell_type": "code",
   "execution_count": 17,
   "metadata": {},
   "outputs": [
    {
     "data": {
      "application/vnd.jupyter.widget-view+json": {
       "model_id": "675e32bb95f94a69b451025e73b41b8d",
       "version_major": 2,
       "version_minor": 0
      },
      "text/plain": [
       "HBox(children=(IntProgress(value=0, max=768), HTML(value='')))"
      ]
     },
     "metadata": {},
     "output_type": "display_data"
    },
    {
     "name": "stdout",
     "output_type": "stream",
     "text": [
      "\n",
      "0.3815104166666667\n"
     ]
    }
   ],
   "source": [
    "from tqdm import tqdm_notebook\n",
    "pred_home = []\n",
    "pred_away = []\n",
    "pred_result = []\n",
    "for i in tqdm_notebook(range(len(answer))):\n",
    "    tmp1, tmp2 = prediction(answer[\"ホーム\"].iloc[i],answer[\"アウェイ\"].iloc[i],answer[\"month\"].iloc[i],answer[\"スタジアム\"].iloc[i],data)\n",
    "    tmp3, tmp4 = prediction(answer[\"アウェイ\"].iloc[i],answer[\"ホーム\"].iloc[i],answer[\"month\"].iloc[i],answer[\"スタジアム\"].iloc[i],data)\n",
    "    pred_home.append(tmp1)\n",
    "    pred_away.append(tmp3)\n",
    "    if pred_home[i] == pred_away[i]:\n",
    "        pred_result.append(\"draw\")\n",
    "    elif pred_home[i] == \"win\" or (pred_home[i] == \"draw\" and pred_away[i] == \"lose\"):\n",
    "        pred_result.append(\"win\")\n",
    "    else:\n",
    "        pred_result.append(\"lose\")\n",
    "        \n",
    "answer[\"予想1\"] = pred_home\n",
    "answer[\"予想2\"] = pred_away\n",
    "answer[\"最終予想\"] = pred_result\n",
    "#display(answer)\n",
    "print(len(answer[answer[\"result\"]==answer[\"最終予想\"]])/len(answer))"
   ]
  },
  {
   "cell_type": "markdown",
   "metadata": {},
   "source": [
    "結果、38%という数値になった。  \n",
    "[ベイズ分類器](005_ベイズ分類器.ipynb)で試したBernoulli分布に即した方が結果良さそう？"
   ]
  }
 ],
 "metadata": {
  "kernelspec": {
   "display_name": "Python 3",
   "language": "python",
   "name": "python3"
  },
  "language_info": {
   "codemirror_mode": {
    "name": "ipython",
    "version": 3
   },
   "file_extension": ".py",
   "mimetype": "text/x-python",
   "name": "python",
   "nbconvert_exporter": "python",
   "pygments_lexer": "ipython3",
   "version": "3.6.6"
  }
 },
 "nbformat": 4,
 "nbformat_minor": 2
}
