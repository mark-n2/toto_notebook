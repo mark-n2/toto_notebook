{
 "cells": [
  {
   "cell_type": "markdown",
   "metadata": {},
   "source": [
    "# ディープラーニング\n",
    "\n",
    "収集したデータをAIに学習させ、予想してくれるものを目指す。  \n",
    "フレームワークはTensorflow+Keras。\n",
    "\n",
    "* [データ収集](001_データ収集.ipynb)で収集したデータを使う。\n",
    "* [データ加工](002_データ加工.ipynb)で加工済みとする。"
   ]
  },
  {
   "cell_type": "code",
   "execution_count": 1,
   "metadata": {},
   "outputs": [],
   "source": [
    "import download\n",
    "import process_data\n",
    "import pandas as pd\n",
    "df = download.get_db_data()\n",
    "df = process_data.processing_data(df)\n",
    "#display(df)"
   ]
  },
  {
   "cell_type": "markdown",
   "metadata": {},
   "source": [
    "# 符号化\n",
    "\n",
    "* チーム名・スタジアム名を符号化\n",
    "* 勝ち・負け・引き分けを符号化\n",
    "* 試合日を月のみ取得"
   ]
  },
  {
   "cell_type": "code",
   "execution_count": 2,
   "metadata": {},
   "outputs": [],
   "source": [
    "home = pd.concat([df[\"ホーム\"],df[\"アウェイ\"]]).drop_duplicates().reset_index(drop=True).to_dict()\n",
    "team_dict = {v:k for k, v in home.items()} # 辞書のキー・バリュー交換"
   ]
  },
  {
   "cell_type": "code",
   "execution_count": 3,
   "metadata": {},
   "outputs": [],
   "source": [
    "tmp = [team_dict[df[\"ホーム\"][i]] for i in range(len(df))]\n",
    "df[\"home\"] = tmp\n",
    "tmp = [team_dict[df[\"アウェイ\"][i]] for i in range(len(df))]\n",
    "df[\"away\"] = tmp\n",
    "#display(df)"
   ]
  },
  {
   "cell_type": "code",
   "execution_count": 4,
   "metadata": {},
   "outputs": [],
   "source": [
    "studium = df[\"スタジアム\"].drop_duplicates().reset_index(drop=True).to_dict()\n",
    "studium_dict = {v:k for k, v in studium.items()}"
   ]
  },
  {
   "cell_type": "code",
   "execution_count": 5,
   "metadata": {},
   "outputs": [],
   "source": [
    "tmp = [studium_dict[df[\"スタジアム\"][i]] for i in range(len(df))]\n",
    "df[\"studium\"] = tmp"
   ]
  },
  {
   "cell_type": "markdown",
   "metadata": {},
   "source": [
    "勝敗はホームチームの勝ち(WIN)、負け(LOSE)、引き分け(DRAW)の三種類に符号化する。  \n",
    "最終出力を獲得勝ち点で出力することを考え、WIN=3/DRAW=1/LOSE=0としておく。\n",
    "\n",
    "カップ戦とかでPK戦の結果も含まれているが、PKは引き分けととらえることにする。"
   ]
  },
  {
   "cell_type": "code",
   "execution_count": 6,
   "metadata": {},
   "outputs": [],
   "source": [
    "import re\n",
    "import numpy as np\n",
    "wdl = []\n",
    "# win-draw-lose VゴールとかPKとかはTOTO予想に関係ないので無視\n",
    "LOSE = 0\n",
    "DRAW = 1\n",
    "WIN = 3\n",
    "OTHER = np.nan\n",
    "for result in df[\"スコア\"]:\n",
    "    tmp = re.split(\"[-()]\",result)\n",
    "    if len(tmp) < 2: # X-Xという形式でないものはスルー\n",
    "        wdl.append(OTHER)\n",
    "        continue\n",
    "    if int(tmp[0]) > int(tmp[1]):\n",
    "        wdl.append(WIN)\n",
    "    elif int(tmp[0]) < int(tmp[1]):\n",
    "        wdl.append(LOSE)\n",
    "    else:\n",
    "        wdl.append(DRAW)\n",
    "df[\"result\"] = wdl\n",
    "#display(df)"
   ]
  },
  {
   "cell_type": "markdown",
   "metadata": {},
   "source": [
    "対戦した時期として、月の情報を入れるものとする。\n",
    "\n",
    "試合日から情報を検出する。"
   ]
  },
  {
   "cell_type": "code",
   "execution_count": 7,
   "metadata": {},
   "outputs": [],
   "source": [
    "month = []\n",
    "for match_day in df[\"試合日\"]:\n",
    "    tmp = match_day.split(\"/\")[0]\n",
    "    if tmp.isdigit() == True:\n",
    "        month.append(int(tmp))\n",
    "    else:\n",
    "        month.append(np.nan)\n",
    "df[\"month\"] = month\n",
    "#display(month)"
   ]
  },
  {
   "cell_type": "code",
   "execution_count": 8,
   "metadata": {},
   "outputs": [],
   "source": [
    "df = df.rename(columns={\"年度\":\"year\"})\n",
    "#display(df)"
   ]
  },
  {
   "cell_type": "markdown",
   "metadata": {},
   "source": [
    "使うデータを1992年~2016年に絞る。  \n",
    "2017年のデータは予測の正確性検証のために別にしておくため"
   ]
  },
  {
   "cell_type": "code",
   "execution_count": 9,
   "metadata": {},
   "outputs": [],
   "source": [
    "data = df[df[\"year\"] < 2017]"
   ]
  },
  {
   "cell_type": "markdown",
   "metadata": {},
   "source": [
    "結果の異常値を弾く。\n",
    "\n",
    "異常値としてNaN(np.nan)を使ったので、NaNを含む列をドロップする。"
   ]
  },
  {
   "cell_type": "code",
   "execution_count": 10,
   "metadata": {},
   "outputs": [],
   "source": [
    "data = data.dropna()"
   ]
  },
  {
   "cell_type": "markdown",
   "metadata": {},
   "source": [
    "ホームチームを限定して、入力データと2017年のデータを使った正解データを生成してみる。"
   ]
  },
  {
   "cell_type": "code",
   "execution_count": 11,
   "metadata": {},
   "outputs": [],
   "source": [
    "def generate_trainng_data(df, year=2017, home=None, away=None):\n",
    "    \"\"\"\n",
    "    ホームチームを指定し、学習用データ(指定した年度より前のデータから)を生成\n",
    "    \"\"\"\n",
    "    data = df[df[\"year\"] < year].dropna()\n",
    "    if home is not None and away is not None:\n",
    "        data = data[((data[\"ホーム\"]==home) | (data[\"アウェイ\"]==home))|((data[\"ホーム\"]==away) | (data[\"アウェイ\"]==away))]\n",
    "    x = data[[\"home\",\"away\",\"year\",\"month\",\"studium\"]]\n",
    "    y = data[\"result\"]\n",
    "    return x, y\n",
    "\n",
    "def generate_correct_data(df, year=2017, home=None, away=None):\n",
    "    \"\"\"\n",
    "    ホームチームを指定し、モデルの確からしさを検証するためのデータを生成\n",
    "    \"\"\"\n",
    "    data = df[df[\"year\"] == year].dropna()\n",
    "    if home is not None and away is not None:\n",
    "        data = data[((data[\"ホーム\"]==home) | (data[\"アウェイ\"]==home))|((data[\"ホーム\"]==away) | (data[\"アウェイ\"]==away))]\n",
    "    x = data[[\"home\",\"away\",\"year\",\"month\",\"studium\"]]\n",
    "    y = data[[\"result\"]]\n",
    "    return x, y"
   ]
  },
  {
   "cell_type": "markdown",
   "metadata": {},
   "source": [
    "## 人工知能に入れてみる\n",
    "\n",
    "とりあえず(うまくいくとは思えないが)ここまで加工したデータで、\n",
    "* home\n",
    "* away\n",
    "* year\n",
    "* month\n",
    "\n",
    "を入力、resultを出力とするニューラルネットを構築してみたい。"
   ]
  },
  {
   "cell_type": "code",
   "execution_count": 12,
   "metadata": {},
   "outputs": [],
   "source": [
    "import numpy as np\n",
    "import tensorflow as tf\n",
    "#import tensorboard as tb"
   ]
  },
  {
   "cell_type": "code",
   "execution_count": null,
   "metadata": {},
   "outputs": [],
   "source": [
    "# 入力Xと出力yを定義\n",
    "x, y = generate_trainng_data(df, 2017)\n",
    "X = np.reshape(x.values,(-1,5,1))\n",
    "y = np.reshape(y.values,(-1,1,1))\n",
    "print(X.shape[1:],y.shape)\n",
    "#\n",
    "# ニューラルネットワークの定義\n",
    "#\n",
    "model = tf.keras.models.Sequential()\t# Sequentialモデル\n",
    "# Conv層を追加\n",
    "model.add(tf.keras.layers.Conv1D(128,5,input_shape=X.shape[1:],activation=\"tanh\"))\n",
    "model.add(tf.keras.layers.Conv1D(128,1,activation=\"relu\"))\n",
    "model.add(tf.keras.layers.Conv1D(128,1,activation=\"relu\"))\n",
    "model.add(tf.keras.layers.Conv1D(128,1,activation=\"relu\"))\n",
    "model.add(tf.keras.layers.MaxPool1D(1))\n",
    "model.add(tf.keras.layers.Dropout(0.01))\n",
    "model.add(tf.keras.layers.Conv1D(128,1,activation=\"relu\"))\n",
    "model.add(tf.keras.layers.Conv1D(128,1,activation=\"relu\"))\n",
    "model.add(tf.keras.layers.Conv1D(128,1,activation=\"relu\"))\n",
    "model.add(tf.keras.layers.Conv1D(128,1,activation=\"relu\"))\n",
    "model.add(tf.keras.layers.MaxPool1D(1))\n",
    "model.add(tf.keras.layers.Dropout(0.01))\n",
    "model.add(tf.keras.layers.Conv1D(128,1,activation=\"relu\"))\n",
    "model.add(tf.keras.layers.Conv1D(128,1,activation=\"relu\"))\n",
    "model.add(tf.keras.layers.Conv1D(128,1,activation=\"relu\"))\n",
    "model.add(tf.keras.layers.Conv1D(128,1,activation=\"relu\"))\n",
    "model.add(tf.keras.layers.MaxPool1D(1))\n",
    "model.add(tf.keras.layers.Dropout(0.01))\n",
    "model.add(tf.keras.layers.Conv1D(128,1,activation=\"relu\"))\n",
    "model.add(tf.keras.layers.Conv1D(128,1,activation=\"relu\"))\n",
    "model.add(tf.keras.layers.Conv1D(128,1,activation=\"relu\"))\n",
    "model.add(tf.keras.layers.Conv1D(128,1,activation=\"relu\"))\n",
    "model.add(tf.keras.layers.MaxPool1D(1))\n",
    "model.add(tf.keras.layers.Dropout(0.01))\n",
    "#model.add(tf.keras.layers.Flatten())\n",
    "model.add(tf.keras.layers.Dropout(0.01))\n",
    "model.add(tf.keras.layers.Dense(1,activation=\"softplus\"))\n",
    "\n",
    "# 学習の仕方を定義\n",
    "# * 目的関数(ロス関数)としてmse\n",
    "# * 最適化アルゴリズムにadam\n",
    "# * 評価メトリクスとしてaccuracyを表示\n",
    "model.compile(optimizer=\"adam\", loss='mean_absolute_error',metrics=['accuracy'])\n",
    "\n",
    "# Tensorboard用コールバック\n",
    "#tb_cb = tf.keras.callbacks.TensorBoard(log_dir='./log')\n",
    "#cbks = [tb_cb]\n",
    "# 学習開始\n",
    "# * バッチサイズ4\n",
    "# * エポック数1000回\n",
    "#history = model.fit(X, y, batch_size=len(X), epochs=1000, callbacks=cbks)\n",
    "history = model.fit(X, y, batch_size=len(X), epochs=100)\n",
    "\n",
    "#plot_history(history)\n",
    "#tb.show_graph(tf.get_default_graph().as_graph_def()) # JupyterでTensorboardのGraphを表示させる"
   ]
  },
  {
   "cell_type": "code",
   "execution_count": null,
   "metadata": {},
   "outputs": [],
   "source": [
    "# モデルから2017年の対戦データを予想し、predict列に表示\n",
    "cx, cy = generate_correct_data(df,2017)\n",
    "cxx = np.reshape(cx.values,(-1,5,1))\n",
    "print(cxx.shape)\n",
    "\n",
    "pred = model.predict(cxx)\n",
    "predict = pd.DataFrame(np.reshape(pred,len(pred)))\n",
    "display(pd.concat([\n",
    "    cx.reset_index(drop=True), \n",
    "    cy.reset_index(drop=True), \n",
    "    predict],\n",
    "    axis=1).rename(columns={0:\"predict\"}))"
   ]
  },
  {
   "cell_type": "markdown",
   "metadata": {},
   "source": [
    "ある程度予想通りではあるが、こんな簡単には収束しない…。\n",
    "\n",
    "また、tensorflowが1.10になってからは、学習時にエラーが出るようになってしまった…。"
   ]
  }
 ],
 "metadata": {
  "kernelspec": {
   "display_name": "Python 3",
   "language": "python",
   "name": "python3"
  },
  "language_info": {
   "codemirror_mode": {
    "name": "ipython",
    "version": 3
   },
   "file_extension": ".py",
   "mimetype": "text/x-python",
   "name": "python",
   "nbconvert_exporter": "python",
   "pygments_lexer": "ipython3",
   "version": "3.6.6"
  }
 },
 "nbformat": 4,
 "nbformat_minor": 2
}
