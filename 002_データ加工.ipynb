{
 "cells": [
  {
   "cell_type": "markdown",
   "metadata": {},
   "source": [
    "# データ加工\n",
    "\n",
    "[前回](001_データ収集.ipynb)で収集したデータを、解析しやすいように加工する。  \n",
    "具体的には、\n",
    "* 横浜Ｍ+横浜Ｆ→横浜FMのようなことがあるので、2018年現在残っているチームを基準に、データ名をそろえる\n",
    "* チームだけでなくスタジアム名も、日本平→アイスタのように単なる名前変更があったりするので、この辺を綺麗にする\n",
    "* 不要なデータの削除(放送局や入場者数はあまり勝敗と関係なさそうなのでカットしておく)\n",
    "* ホームチームの勝ち・負け・引き分けの形でわかるように結果を加工\n",
    "* 第〇節か、何月に実施されたかといった時期情報がわかるよう加工\n",
    "\n",
    "## まず保存したデータを取得\n",
    "\n",
    "[前回](001_データ収集.ipynb)作成したスクリプトより、data/jleague.dbが存在する状況から開始とする。"
   ]
  },
  {
   "cell_type": "code",
   "execution_count": 1,
   "metadata": {},
   "outputs": [],
   "source": [
    "import sqlite3\n",
    "import pandas as pd\n",
    "DB_NAME = 'data/jleague.db'\n",
    "conn = sqlite3.connect(DB_NAME)\n",
    "df = pd.read_sql(\"select * from result\", conn)\n",
    "conn.close()\n",
    "\n",
    "#display(df)"
   ]
  },
  {
   "cell_type": "code",
   "execution_count": 2,
   "metadata": {},
   "outputs": [
    {
     "data": {
      "text/plain": [
       "22907"
      ]
     },
     "execution_count": 2,
     "metadata": {},
     "output_type": "execute_result"
    }
   ],
   "source": [
    "len(df)"
   ]
  },
  {
   "cell_type": "markdown",
   "metadata": {},
   "source": [
    "## 不要データの削除\n",
    "\n",
    "* インターネット中継・TV放送\n",
    "* 入場者数\n",
    "\n",
    "のデータを削除する。\n",
    "\n",
    "また、サテライトリーグのデータは公式戦とはいえ勝敗データとして使いにくいので、削除しておく。  \n",
    "オールスターゲームも同様。"
   ]
  },
  {
   "cell_type": "code",
   "execution_count": 3,
   "metadata": {},
   "outputs": [],
   "source": [
    "exhivisions = []\n",
    "for taikai in df[\"大会\"].drop_duplicates():\n",
    "    if 'ＸＥＲＯＸ' not in taikai \\\n",
    "    and 'エリート' not in taikai \\\n",
    "    and '入替' not in taikai \\\n",
    "    and '育成' not in taikai \\\n",
    "    and 'ユース' not in taikai \\\n",
    "    and '参入' not in taikai \\\n",
    "    and '昇格' not in taikai \\\n",
    "    and  'Ｊ' in taikai:\n",
    "        exhivisions.append(taikai)"
   ]
  },
  {
   "cell_type": "code",
   "execution_count": 4,
   "metadata": {},
   "outputs": [
    {
     "data": {
      "text/html": [
       "<div>\n",
       "<style scoped>\n",
       "    .dataframe tbody tr th:only-of-type {\n",
       "        vertical-align: middle;\n",
       "    }\n",
       "\n",
       "    .dataframe tbody tr th {\n",
       "        vertical-align: top;\n",
       "    }\n",
       "\n",
       "    .dataframe thead th {\n",
       "        text-align: right;\n",
       "    }\n",
       "</style>\n",
       "<table border=\"1\" class=\"dataframe\">\n",
       "  <thead>\n",
       "    <tr style=\"text-align: right;\">\n",
       "      <th></th>\n",
       "      <th>年度</th>\n",
       "      <th>大会</th>\n",
       "      <th>節</th>\n",
       "      <th>試合日</th>\n",
       "      <th>K/O時刻</th>\n",
       "      <th>ホーム</th>\n",
       "      <th>スコア</th>\n",
       "      <th>アウェイ</th>\n",
       "      <th>スタジアム</th>\n",
       "      <th>入場者数</th>\n",
       "      <th>インターネット中継・TV放送</th>\n",
       "    </tr>\n",
       "  </thead>\n",
       "  <tbody>\n",
       "    <tr>\n",
       "      <th>0</th>\n",
       "      <td>1993</td>\n",
       "      <td>Ｊ１ サントリー</td>\n",
       "      <td>第１節第１日</td>\n",
       "      <td>05/15(土)</td>\n",
       "      <td>19:29</td>\n",
       "      <td>Ｖ川崎</td>\n",
       "      <td>1-2</td>\n",
       "      <td>横浜M</td>\n",
       "      <td>国立</td>\n",
       "      <td>59626.0</td>\n",
       "      <td>None</td>\n",
       "    </tr>\n",
       "    <tr>\n",
       "      <th>1</th>\n",
       "      <td>1993</td>\n",
       "      <td>Ｊ１ サントリー</td>\n",
       "      <td>第１節第２日</td>\n",
       "      <td>05/16(日)</td>\n",
       "      <td>13:05</td>\n",
       "      <td>横浜Ｆ</td>\n",
       "      <td>3-2</td>\n",
       "      <td>清水</td>\n",
       "      <td>三ツ沢</td>\n",
       "      <td>14126.0</td>\n",
       "      <td>None</td>\n",
       "    </tr>\n",
       "    <tr>\n",
       "      <th>2</th>\n",
       "      <td>1993</td>\n",
       "      <td>Ｊ１ サントリー</td>\n",
       "      <td>第１節第２日</td>\n",
       "      <td>05/16(日)</td>\n",
       "      <td>13:59</td>\n",
       "      <td>広島</td>\n",
       "      <td>2-1</td>\n",
       "      <td>市原</td>\n",
       "      <td>広島ス</td>\n",
       "      <td>11875.0</td>\n",
       "      <td>None</td>\n",
       "    </tr>\n",
       "    <tr>\n",
       "      <th>3</th>\n",
       "      <td>1993</td>\n",
       "      <td>Ｊ１ サントリー</td>\n",
       "      <td>第１節第２日</td>\n",
       "      <td>05/16(日)</td>\n",
       "      <td>16:00</td>\n",
       "      <td>鹿島</td>\n",
       "      <td>5-0</td>\n",
       "      <td>名古屋</td>\n",
       "      <td>カシマ</td>\n",
       "      <td>10898.0</td>\n",
       "      <td>None</td>\n",
       "    </tr>\n",
       "    <tr>\n",
       "      <th>4</th>\n",
       "      <td>1993</td>\n",
       "      <td>Ｊ１ サントリー</td>\n",
       "      <td>第１節第２日</td>\n",
       "      <td>05/16(日)</td>\n",
       "      <td>19:04</td>\n",
       "      <td>Ｇ大阪</td>\n",
       "      <td>1-0</td>\n",
       "      <td>浦和</td>\n",
       "      <td>万博</td>\n",
       "      <td>19580.0</td>\n",
       "      <td>None</td>\n",
       "    </tr>\n",
       "    <tr>\n",
       "      <th>...</th>\n",
       "      <td>...</td>\n",
       "      <td>...</td>\n",
       "      <td>...</td>\n",
       "      <td>...</td>\n",
       "      <td>...</td>\n",
       "      <td>...</td>\n",
       "      <td>...</td>\n",
       "      <td>...</td>\n",
       "      <td>...</td>\n",
       "      <td>...</td>\n",
       "      <td>...</td>\n",
       "    </tr>\n",
       "    <tr>\n",
       "      <th>18837</th>\n",
       "      <td>2021</td>\n",
       "      <td>Ｊ３</td>\n",
       "      <td>第３０節第１日</td>\n",
       "      <td>12/05(日)</td>\n",
       "      <td>14:03</td>\n",
       "      <td>藤枝</td>\n",
       "      <td>0-3</td>\n",
       "      <td>YS横浜</td>\n",
       "      <td>藤枝サ</td>\n",
       "      <td>2323.0</td>\n",
       "      <td>ＤＡＺＮ</td>\n",
       "    </tr>\n",
       "    <tr>\n",
       "      <th>18838</th>\n",
       "      <td>2021</td>\n",
       "      <td>Ｊ３</td>\n",
       "      <td>第３０節第１日</td>\n",
       "      <td>12/05(日)</td>\n",
       "      <td>14:03</td>\n",
       "      <td>鳥取</td>\n",
       "      <td>3-0</td>\n",
       "      <td>八戸</td>\n",
       "      <td>Ａｘｉｓ</td>\n",
       "      <td>1584.0</td>\n",
       "      <td>ＤＡＺＮ</td>\n",
       "    </tr>\n",
       "    <tr>\n",
       "      <th>18839</th>\n",
       "      <td>2021</td>\n",
       "      <td>Ｊ３</td>\n",
       "      <td>第３０節第１日</td>\n",
       "      <td>12/05(日)</td>\n",
       "      <td>14:03</td>\n",
       "      <td>長野</td>\n",
       "      <td>0-0</td>\n",
       "      <td>今治</td>\n",
       "      <td>長野Ｕ</td>\n",
       "      <td>3032.0</td>\n",
       "      <td>ＤＡＺＮ</td>\n",
       "    </tr>\n",
       "    <tr>\n",
       "      <th>18840</th>\n",
       "      <td>2021</td>\n",
       "      <td>Ｊ３</td>\n",
       "      <td>第３０節第１日</td>\n",
       "      <td>12/05(日)</td>\n",
       "      <td>14:04</td>\n",
       "      <td>熊本</td>\n",
       "      <td>2-0</td>\n",
       "      <td>岐阜</td>\n",
       "      <td>えがおＳ</td>\n",
       "      <td>11314.0</td>\n",
       "      <td>ＤＡＺＮ</td>\n",
       "    </tr>\n",
       "    <tr>\n",
       "      <th>18841</th>\n",
       "      <td>2021</td>\n",
       "      <td>Ｊ３</td>\n",
       "      <td>第３０節第１日</td>\n",
       "      <td>12/05(日)</td>\n",
       "      <td>14:05</td>\n",
       "      <td>沼津</td>\n",
       "      <td>1-1</td>\n",
       "      <td>岩手</td>\n",
       "      <td>愛鷹</td>\n",
       "      <td>2743.0</td>\n",
       "      <td>ＤＡＺＮ／ＮＨＫ盛岡（録）</td>\n",
       "    </tr>\n",
       "  </tbody>\n",
       "</table>\n",
       "<p>18842 rows × 11 columns</p>\n",
       "</div>"
      ],
      "text/plain": [
       "         年度        大会        節       試合日  K/O時刻  ホーム  スコア  アウェイ スタジアム  \\\n",
       "0      1993  Ｊ１ サントリー   第１節第１日  05/15(土)  19:29  Ｖ川崎  1-2   横浜M    国立   \n",
       "1      1993  Ｊ１ サントリー   第１節第２日  05/16(日)  13:05  横浜Ｆ  3-2    清水   三ツ沢   \n",
       "2      1993  Ｊ１ サントリー   第１節第２日  05/16(日)  13:59   広島  2-1    市原   広島ス   \n",
       "3      1993  Ｊ１ サントリー   第１節第２日  05/16(日)  16:00   鹿島  5-0   名古屋   カシマ   \n",
       "4      1993  Ｊ１ サントリー   第１節第２日  05/16(日)  19:04  Ｇ大阪  1-0    浦和    万博   \n",
       "...     ...       ...      ...       ...    ...  ...  ...   ...   ...   \n",
       "18837  2021        Ｊ３  第３０節第１日  12/05(日)  14:03   藤枝  0-3  YS横浜   藤枝サ   \n",
       "18838  2021        Ｊ３  第３０節第１日  12/05(日)  14:03   鳥取  3-0    八戸  Ａｘｉｓ   \n",
       "18839  2021        Ｊ３  第３０節第１日  12/05(日)  14:03   長野  0-0    今治   長野Ｕ   \n",
       "18840  2021        Ｊ３  第３０節第１日  12/05(日)  14:04   熊本  2-0    岐阜  えがおＳ   \n",
       "18841  2021        Ｊ３  第３０節第１日  12/05(日)  14:05   沼津  1-1    岩手    愛鷹   \n",
       "\n",
       "          入場者数 インターネット中継・TV放送  \n",
       "0      59626.0           None  \n",
       "1      14126.0           None  \n",
       "2      11875.0           None  \n",
       "3      10898.0           None  \n",
       "4      19580.0           None  \n",
       "...        ...            ...  \n",
       "18837   2323.0           ＤＡＺＮ  \n",
       "18838   1584.0           ＤＡＺＮ  \n",
       "18839   3032.0           ＤＡＺＮ  \n",
       "18840  11314.0           ＤＡＺＮ  \n",
       "18841   2743.0  ＤＡＺＮ／ＮＨＫ盛岡（録）  \n",
       "\n",
       "[18842 rows x 11 columns]"
      ]
     },
     "metadata": {},
     "output_type": "display_data"
    }
   ],
   "source": [
    "# 不要データを削除\n",
    "df = df.drop(\"index\",axis=1)\n",
    "#df = df.drop(\"インターネット中継・TV放送\",axis=1)\n",
    "#df = df.drop(\"入場者数\",axis=1)\n",
    "for taikai in df[\"大会\"].drop_duplicates():\n",
    "    if taikai not in exhivisions:\n",
    "        df = df[df[\"大会\"]!=taikai].reset_index(drop=True)\n",
    "display(df)"
   ]
  },
  {
   "cell_type": "code",
   "execution_count": 5,
   "metadata": {},
   "outputs": [
    {
     "data": {
      "text/plain": [
       "18842"
      ]
     },
     "execution_count": 5,
     "metadata": {},
     "output_type": "execute_result"
    }
   ],
   "source": [
    "len(df)"
   ]
  },
  {
   "cell_type": "markdown",
   "metadata": {},
   "source": [
    "## チーム名の統一\n",
    "\n",
    "吸収合併やホームタウン変更、表記の揺らぎによりチーム名が変わったものについて、新しいチーム名を基準に変更していく。\n",
    "* Ｖ川崎→東京Ｖ(ホームタウン変更)\n",
    "* 横浜Ｍ→横浜FM(横浜フリューゲルスを吸収)\n",
    "* 市原→千葉(ホームタウン拡大)\n",
    "* Ｆ東京→FC東京(表記の揺らぎ)\n",
    "* 平塚→湘南(ホームタウン拡大)\n",
    "* B仙台→仙台(ブランメル仙台→ベガルタ仙台と名称変更)\n",
    "* 草津→群馬(ホームタウン拡大)"
   ]
  },
  {
   "cell_type": "code",
   "execution_count": 6,
   "metadata": {},
   "outputs": [],
   "source": [
    "df = df.drop(df.index[df['ホーム'].str.contains('ＳＴＡＲＳ')])"
   ]
  },
  {
   "cell_type": "code",
   "execution_count": 7,
   "metadata": {},
   "outputs": [
    {
     "data": {
      "text/plain": [
       "68"
      ]
     },
     "execution_count": 7,
     "metadata": {},
     "output_type": "execute_result"
    }
   ],
   "source": [
    "len(df[\"ホーム\"].drop_duplicates())"
   ]
  },
  {
   "cell_type": "code",
   "execution_count": 8,
   "metadata": {},
   "outputs": [],
   "source": [
    "def rename_team(df, old, new):\n",
    "    df[\"ホーム\"] = df[\"ホーム\"].replace(old,new)\n",
    "    df[\"アウェイ\"] = df[\"アウェイ\"].replace(old,new)\n",
    "    return df\n",
    "\n",
    "df = rename_team(df, \"Ｖ川崎\", \"東京Ｖ\")\n",
    "df = rename_team(df, \"横浜M\", \"横浜FM\")\n",
    "df = rename_team(df, \"市原\", \"千葉\")\n",
    "df = rename_team(df, \"Ｆ東京\", \"FC東京\")\n",
    "df = rename_team(df, \"平塚\", \"湘南\")\n",
    "df = rename_team(df, \"B仙台\", \"仙台\")\n",
    "df = rename_team(df, \"草津\", \"群馬\")"
   ]
  },
  {
   "cell_type": "code",
   "execution_count": 9,
   "metadata": {},
   "outputs": [
    {
     "data": {
      "text/plain": [
       "62"
      ]
     },
     "execution_count": 9,
     "metadata": {},
     "output_type": "execute_result"
    }
   ],
   "source": [
    "#display(df)\n",
    "len(df[\"ホーム\"].drop_duplicates())"
   ]
  },
  {
   "cell_type": "markdown",
   "metadata": {},
   "source": [
    "## スタジアム名の統一\n",
    "\n",
    "スタジアム名はネーミングライツの売却がクラブの収入になるため、横浜Ｆマリノスのホームである「日産スタジアム」のように企業名が入ることが多い。  \n",
    "昔はスタジアム名は単に地名になるものが多かったが、後にネーミングライツビジネスが始まったため、変更されたスタジアム名は多く、しかも命名権には期限があるため突然元に戻ったり、違う企業名になったりすることがある。  \n",
    "この辺もわかりづらいので、新しい方に合わせる形で入れ替えておく。\n",
    "\n",
    "### 2022年現在ホームスタジアムとして使われているもの\n",
    "\n",
    "|スタジアム                       |略称  |チーム|旧称・別称|\n",
    "|-------------------------------|-----|---|------|\n",
    "|札幌ドーム                       |札幌ド |札幌|別称として「札幌」？|\n",
    "|札幌厚別公園競技場                |札幌厚別 |札幌||\n",
    "|千代台公園陸上競技場               |函館|札幌||\n",
    "|プライフーズスタジアム             |プラスタ|八戸|ダイハツスタジアム(ダイスタ)|\n",
    "|いわぎんスタジアム                   |いわスタ|盛岡  |盛岡南球技場(盛岡南)|\n",
    "|北上総合運動公園陸上競技場         　　|北上   |盛岡| |\n",
    "|ユアテックスタジアム仙台           |ユアスタ|仙台  |別称として「仙台」？|\n",
    "|宮城スタジアム                    |宮城ス|仙台    ||\n",
    "|あきぎんスタジアム                   |Ａ‐スタ|秋田  |秋田市八橋運動公園球技場(秋田球)|\n",
    "|ソユーススタジアム                 |ソユスタ|秋田 |秋田市八橋運動公園陸上競技場(秋田陸)|\n",
    "|NDソフトスタジアム山形              |ＮＤスタ|山形  |山形県総合運動公園陸上競技場(山形県)|\n",
    "|とうほう・みんなのスタジアム           |とうスタ|福島  |福島県営あづま陸上競技場(福島)|\n",
    "|あいづ陸上競技場                     |あいづ|福島||\n",
    "|いわきグリーンフィールド              |いわきグ|福島||\n",
    "|Jヴィレッジスタジアム               |Jスタ|いわき||\n",
    "|県立カシマサッカースタジアム        |カシマ|鹿島||\n",
    "|ケーズデンキスタジアム水戸           |Ｋｓスタ|水戸  |水戸市立競技場(水戸)|\n",
    "|笠松運動公園陸上競技場              |笠松|水戸|※ＫｓスタはJ1基準を満たさないため登録されているが基本使われない|\n",
    "|栃木県グリーンスタジアム            |栃木グ|栃木  ||\n",
    "|カンセキスタジアムとちぎ              |カンセキ|栃木||\n",
    "|正田醤油スタジアム群馬                |正田スタ|群馬  |群馬県立敷島公園県営陸上競技場(群馬陸)|\n",
    "|NACK5スタジアム大宮               |ＮＡＣＫ|大宮  |大宮公園サッカー場(大宮)|\n",
    "|熊谷スポーツ文化公園陸上競技場      |熊谷陸|大宮   ||\n",
    "|埼玉スタジアム2002                |埼玉  |浦和  ||\n",
    "|さいたま市駒場スタジアム           |駒場  |浦和  ||\n",
    "|三協フロンテア柏スタジアム          |柏   |柏    ||\n",
    "|柏の葉公園総合競技場               |柏    |柏の葉||\n",
    "|市原緑地運動公園臨海競技場          |市原|千葉     ||\n",
    "|フクダ電子アリーナ                 |フクアリ|千葉  ||\n",
    "|味の素スタジアム                  |味スタ|FC東京|東京スタジアム(東京)|\n",
    "|江東区夢の島陸上競技場             |夢の島|FC東京U-23||\n",
    "|味の素フィールド西が丘             |味フィ西|東京Ｖ|西が丘サッカー場(西が丘)|\n",
    "|駒沢オリンピック公園総合運動場陸上競技場|駒沢|東京Ｖ||\n",
    "|町田GIONスタジアム                 |Gスタ|町田|町田市立陸上競技場(町田)|\n",
    "|相模原ギオンスタジアム             |ギオンス|相模原||\n",
    "|等々力陸上競技場                  |等々力|川崎Ｆ  ||\n",
    "|日産スタジアム                    |日産ス|横浜FM|横浜国際総合競技場(横浜国)|\n",
    "|ニッパツ三ツ沢球場                  |ニッパツ|横浜FC|三ツ沢公園球技場(三ッ沢)、別称として「ニッパ球」とも|\n",
    "|三ツ沢公園陸上競技場               |三ツ沢陸|横浜FC|※三ッ沢公園内にある陸上競技場でニッパツとは別|\n",
    "|レモンガススタジアム平塚         |レモンS|湘南  |平塚競技場(平塚)→Shonan BMWスタジアム(ＢＭＷス)|\n",
    "|JITリサイクルインクスタジアム    |ＪＩＴス|甲府  |山梨県小瀬スポーツ公園陸上競技場(小瀬)→山梨中銀スタジアム(中銀スタ)|\n",
    "|サンプロアルウィン                |サンアル|松本|松本平広域公園総合球技場(松本)|\n",
    "|長野Uスタジアム                      |長野Ｕ|長野  |南長野運動公園総合球技場(南長野)|\n",
    "|デンカビッグスワンスタジアム         |デンカＳ|新潟  |新潟スタジアム(新潟ス)→東北電力ビッグスワンスタジアム(東北電ス)|\n",
    "|富山県総合運動公園陸上競技場           |富山|富山  ||\n",
    "|魚津桃山運動公園                      |魚津桃山|富山||\n",
    "|石川県西部緑地公園陸上競技場         |石川西部|金沢  ||\n",
    "|愛鷹広域公園多目的競技場              |愛鷹|沼津  ||\n",
    "|IAIスタジアム日本平               |アイスタ|清水  |静岡市清水日本平運動公園球技場(日本平)→アウトソーシングスタジアム(アウスタ)|\n",
    "|エコパスタジアム                  |エコパ|清水|静岡スタジアム(静岡)|\n",
    "|藤枝総合運動公園サッカー場             |藤枝サ|藤枝  ||\n",
    "|静岡県草薙総合運動場陸上競技場         |草薙陸|藤枝  ||\n",
    "|ヤマハスタジアム（磐田）            |ヤマハ|磐田  |別名として「磐田」？|\n",
    "|パロマ瑞穂スタジアム               |パロ瑞穂|名古屋|瑞穂公園陸上競技場(瑞穂陸)|\n",
    "|豊田スタジアム                    |豊田ス  |名古屋||\n",
    "|岐阜メモリアルセンター長良川競技場    |長良川|岐阜  ||\n",
    "|サンガスタジアムbyKYOCERA           |サンガS|京都||\n",
    "|たけびしスタジアム京都              |たけびし|京都  |京都市西京極総合運動公園陸上競技場兼球技場(西京極)|\n",
    "|パナソニックスタジアム吹田          |吹田Ｓ|Ｇ大阪 ||\n",
    "|万博記念競技場                    |万博|Ｇ大阪||\n",
    "|ヨドコウ桜スタジアム               |ヨドコウ|Ｃ大阪 |キンチョウスタジアム(金鳥スタ)|\n",
    "|ヤンマースタジアム長居             |ヤンマー|Ｃ大阪|長居陸上競技場(長居)|\n",
    "|ノエビアスタジアム神戸             |ノエスタ|神戸  |神戸市立中央球技場(神戸中央)→御崎公園球技場神戸ウイングスタジアム(神戸ウイ)→ホームズスタジアム(ホムスタ・ホームズ)|\n",
    "|神戸総合運動公園ユニバー記念競技場    |神戸ユ|神戸||\n",
    "|Axisバードスタジアム              |Axis|鳥取  |とりぎんバードスタジアム(とりスタ)|\n",
    "|チュウブYAJINスタジアム              |チュスタ|鳥取||\n",
    "|シティライトスタジアム              |Ｃスタ|岡山  |岡山県総合グラウンド陸上競技場(岡山)→カンコースタジアム(カンスタ)|\n",
    "|岡山県津山陸上競技場                |津山|岡山    ||\n",
    "|エディオンスタジアム広島            |Ｅスタ|広島  |広島ビッグアーチ(広島ビ)|\n",
    "|広島県総合グランドメインスタジアム   |広島ス|広島  ||\n",
    "|維新みらいふスタジアム              |維新公園|山口  ||\n",
    "|セービング陸上競技場                |SV下関|山口|下関市営下関陸上競技場(下関)|\n",
    "|Pikaraスタジアム                  |ピカスタ|讃岐  |香川県立丸亀競技場(丸亀)|\n",
    "|鳴門・大塚スポーツパークポカリスエットスタジアム|鳴門大塚|徳島  |徳島県鳴門総合運動公園陸上競技場(鳴門)|\n",
    "|ニンジニアスタジアム                |ニンスタ|愛媛  |愛媛県総合運動公園陸上競技場(愛媛陸)|\n",
    "|ありがとうサービス.夢スタジアム     |夢スタ|今治||\n",
    "|ベスト電器スタジアム                 |ベススタ|福岡 |東平尾公園博多の森球技場(博多球)→レベルファイブスタジアム(レベスタ)|\n",
    "|ミクニワールドスタジアム北九州         |ミクスタ|北九州||\n",
    "|駅前不動産スタジアム                 |駅スタ|鳥栖|鳥栖スタジアム(鳥栖)→ベスタアメニティスタジアム(ベアスタ)|\n",
    "|佐賀県総合運動場陸上競技場           |佐賀   |鳥栖   ||\n",
    "|トランスコスモススタジアム長崎       |トラスタ|長崎  |長崎県立総合運動公園陸上競技場(長崎県立)|\n",
    "|えがお健康スタジアム                 |えがおＳ|熊本  |熊本県民総合運動公園陸上競技場(熊本)→うまかな・よかなスタジアム(うまスタ)|\n",
    "|熊本市水前寺競技場                   |水前寺|熊本||\n",
    "|昭和電工ドーム大分                   |昭和電ド|大分  |大分スポーツ公園総合競技場(大分)→九州石油ドーム(九石ド)→大分銀行ドーム(大銀ド)、別称として「大分ス」|\n",
    "|ユニリーバスタジアム新富            |ユニスタ|宮崎||\n",
    "|白波スタジアム                      |白波スタ鴨池|鹿児島|鴨池陸上競技場(鴨池)|\n",
    "|タピック県総ひやごんスタジアム         |タピスタ|琉球  |沖縄県陸|\n",
    "|沖縄市陸上競技場                      |沖縄市陸|琉球  ||\n",
    "\n",
    "### 既に利用されなくなったスタジアム\n",
    "\n",
    "|スタジアム                       |略称  |チーム|旧称|\n",
    "|-------------------------------|-----|----|-----|\n",
    "|国立競技場                       |国立 ||※改修工事のため2020年まで利用しない|\n",
    "|入江運動公園陸上競技場             |室蘭|札幌|※2012年以降は開催されず|\n",
    "|仙台市陸上競技場                  |宮城陸上|仙台|※以前仙台が利用|\n",
    "|宮城県サッカー場                  |宮城サ|仙台|※以前仙台が利用|\n",
    "|ひたちなか市総合運動公園           |ひたちな|鹿島|※以前鹿島が利用|\n",
    "|川越運動公園                      |川越|浦和||\n",
    "|江戸川区陸上競技場                |江戸川|FC東京||\n",
    "|浜北平口サッカー場                 |浜松|磐田|1993年のみ|\n",
    "|名古屋市瑞穂公園ラグビー場          |瑞穂球|名古屋|2007年ごろまで|\n",
    "|三重県営鈴鹿スポーツガーデン        |鈴鹿|名古屋|2002年ごろまで|\n",
    "|名古屋市港サッカー場               |名古屋港|名古屋|1994年まで|\n",
    "|長居第2陸上競技場                  |長居２|Ｃ大阪|2007年ごろまで|\n",
    "|東大阪市花園ラグビー場              |花園|Ｃ大阪|1999年のみ|\n",
    "|皇子山陸上競技場                   |皇子山|Ｃ大阪|2002年のみ|\n",
    "|兵庫県立三木総合防災公園陸上競技場   |三木陸|Ｃ大阪・神戸|2006-2007年のみ|\n",
    "|広島県立びんご運動公園野球場        |びんご|広島|1993年のみ|\n",
    "|福山市竹ヶ端運動公園陸上競技場      |福山市|広島|1994年のみ|\n",
    "|長崎市総合運動公園                 |長崎市|長崎|2015年まで|\n",
    "|鶴岡市小真木原陸上競技場            |鶴岡|山形|2001年まで|\n",
    "|山形市陸上競技場                   |山形市|山形|2001年まで|\n",
    "|日立市民運動公園陸上競技場          |日立市|水戸|2008年ごろまで|\n",
    "|足利市総合運動公園陸上競技場        |足利陸|栃木|2009年ごろまで|\n",
    "|鴻巣市上谷総合公園                 |鴻巣|大宮|2001年ごろまで|\n",
    "|太田市運動公園陸上競技場           |太田陸|千葉|1992年のみ|\n",
    "|韮崎中央公園陸上競技場             |韮崎中央|甲府|2000年まで|\n",
    "|山梨県富士北麓公園陸上競技場        |富士北麓|甲府|2000年まで|\n",
    "|新潟市陸上競技場                   |新潟陸|新潟|2003年まで、別称として「新潟」？|\n",
    "|長良川球技メドウ                   |長良川球|岐阜|2007年まで|\n",
    "|浅中公園陸上競技場                 |大垣|岐阜|2013年のみ|\n",
    "|東平尾公園博多の森陸上競技場        |博多陸|福岡|2003年ごろまで|\n",
    "|佐伯市総合運動公園陸上競技場        |佐伯|大分|2000年まで|\n",
    "|大分市営陸上競技場                 |大分陸|大分|2002年まで|\n",
    "|群馬県立敷島公園サッカー・ラグビー場 |群馬サ|群馬|2005年ごろまで|\n",
    "|足利市総合運動公園陸上競技場        |足利陸|群馬|2009年ごろまで|\n",
    "|長野市営陸上競技場                 |長野|長野|2014年ごろまで|\n",
    "|佐久総合運動公園陸上競技場          |佐久|長野|2014年のみ|\n",
    "|北九州市立本城陸上競技場              |本城|北九州|2016年ごろまで|\n",
    "\n",
    "### 不明\n",
    "\n",
    "* 札幌(札幌)→おそらく札幌ドと同じ\n",
    "* 仙台(仙台)→恐らくユアスタと同じ\n",
    "* 磐田(磐田)→おそらくヤマハと同じ\n",
    "* 水戸(水戸)→おそらくＫｓスタと同じ\n",
    "* 千葉(千葉)→フクアリと一緒かと思ったが1992年のみのデータであり、フクアリは2005年から。\n",
    "* 新潟(新潟)→デンカＳと同じかと思ったがデータを見る限り新潟陸と一緒っぽい\n"
   ]
  },
  {
   "cell_type": "code",
   "execution_count": 65,
   "metadata": {},
   "outputs": [
    {
     "data": {
      "text/plain": [
       "194"
      ]
     },
     "execution_count": 65,
     "metadata": {},
     "output_type": "execute_result"
    }
   ],
   "source": [
    "len(df[\"スタジアム\"].drop_duplicates())"
   ]
  },
  {
   "cell_type": "code",
   "execution_count": 66,
   "metadata": {},
   "outputs": [
    {
     "data": {
      "text/plain": [
       "8412     とりスタ\n",
       "10838    チュスタ\n",
       "16783    Ａｘｉｓ\n",
       "Name: スタジアム, dtype: object"
      ]
     },
     "execution_count": 66,
     "metadata": {},
     "output_type": "execute_result"
    }
   ],
   "source": [
    "df[df[\"ホーム\"]==\"鳥取\"][\"スタジアム\"].drop_duplicates()"
   ]
  },
  {
   "cell_type": "code",
   "execution_count": 67,
   "metadata": {},
   "outputs": [],
   "source": [
    "#df[df[\"スタジアム\"]==\"ＪＩＴス\"]"
   ]
  },
  {
   "cell_type": "code",
   "execution_count": 68,
   "metadata": {},
   "outputs": [],
   "source": [
    "def rename_studium(df, old, new):\n",
    "    df[\"スタジアム\"] = df[\"スタジアム\"].replace(old,new)\n",
    "    return df\n",
    "\n",
    "df = rename_studium(df, \"札幌\", \"札幌ド\")\n",
    "df = rename_studium(df, \"ダイスタ\", \"プラスタ\") # 八戸\n",
    "df = rename_studium(df, \"盛岡南\", \"いわスタ\")   # 盛岡\n",
    "df = rename_studium(df, \"仙台\", \"ユアスタ\")\n",
    "df = rename_studium(df, \"秋田球\", \"Ａ‐スタ\")    # 秋田\n",
    "df = rename_studium(df, \"秋田陸\", \"ソユスタ\")\n",
    "df = rename_studium(df, \"山形県\", \"ＮＤスタ\")   # 山形\n",
    "df = rename_studium(df, \"群馬陸\", \"正田スタ\")   # 群馬\n",
    "df = rename_studium(df, \"水戸\", \"Ｋｓスタ\")     # 水戸\n",
    "df = rename_studium(df, \"大宮\", \"ＮＡＣＫ\")     # 大宮\n",
    "df = rename_studium(df, \"東京\", \"味スタ\")\n",
    "df = rename_studium(df, \"西が丘\", \"味フィ西\")\n",
    "df = rename_studium(df, \"町田\", \"Ｇスタ\")       # 町田\n",
    "df = rename_studium(df, \"横浜国\", \"日産\")       # 横浜\n",
    "df = rename_studium(df, \"三ツ沢\", \"ニッパツ\")\n",
    "df = rename_studium(df, \"ニッパ球\", \"ニッパツ\")\n",
    "df = rename_studium(df, \"平塚\", \"レモンＳ\")\n",
    "df = rename_studium(df, \"ＢＭＷス\", \"レモンＳ\")\n",
    "df = rename_studium(df, \"小瀬\", \"ＪＩＴス\")     # 甲府\n",
    "df = rename_studium(df, \"ＮＤスタ\", \"ＪＩＴス\")     # 甲府\n",
    "df = rename_studium(df, \"松本\", \"サンアル\")     # 松本\n",
    "df = rename_studium(df, \"南長野\", \"長野Ｕ\")\n",
    "df = rename_studium(df, \"新潟ス\", \"デンカＳ\")\n",
    "df = rename_studium(df, \"東北電ス\", \"デンカＳ\")\n",
    "df = rename_studium(df, \"日本平\", \"アイスタ\")   # 清水\n",
    "df = rename_studium(df, \"アウスタ\", \"アイスタ\") # 清水\n",
    "df = rename_studium(df, \"静岡\", \"エコパ\")\n",
    "df = rename_studium(df, \"磐田\", \"ヤマハ\")\n",
    "df = rename_studium(df, \"瑞穂陸\", \"パロ瑞穂\")\n",
    "df = rename_studium(df, \"長居\", \"ヤンマー\")     # C大阪\n",
    "df = rename_studium(df, \"金鳥スタ\", \"ヨドコウ\") # C大阪\n",
    "df = rename_studium(df, \"神戸中央\", \"ノエスタ\")\n",
    "df = rename_studium(df, \"神戸ウイ\", \"ノエスタ\")\n",
    "df = rename_studium(df, \"ホムスタ\", \"ノエスタ\")\n",
    "df = rename_studium(df, \"ホームズ\", \"ノエスタ\")\n",
    "df = rename_studium(df, \"西京極\", \"たけびし\")\n",
    "df = rename_studium(df, \"とりスタ\", \"Ａｘｉｓ\") # 鳥取\n",
    "df = rename_studium(df, \"広島ビ\", \"Ｅスタ\")\n",
    "df = rename_studium(df, \"鳥栖\", \"駅スタ\")\n",
    "df = rename_studium(df, \"ベアスタ\", \"駅スタ\")\n",
    "df = rename_studium(df, \"博多球\", \"ベススタ\") # 福岡\n",
    "df = rename_studium(df, \"レベスタ\", \"ベススタ\") # 福岡\n",
    "df = rename_studium(df, \"長崎県立\", \"トラスタ\")\n",
    "df = rename_studium(df, \"岡山\", \"Ｃスタ\")\n",
    "df = rename_studium(df, \"カンスタ\", \"Ｃスタ\")\n",
    "df = rename_studium(df, \"丸亀\", \"ピカスタ\")\n",
    "df = rename_studium(df, \"鳴門\", \"鳴門大塚\")\n",
    "df = rename_studium(df, \"愛媛陸\", \"ニンスタ\")\n",
    "df = rename_studium(df, \"博多球\", \"レベスタ\")\n",
    "df = rename_studium(df, \"熊本\", \"えがおＳ\")\n",
    "df = rename_studium(df, \"うまスタ\", \"えがおＳ\")\n",
    "df = rename_studium(df, \"大分\", \"昭和電ド\")\n",
    "df = rename_studium(df, \"九石ド\", \"昭和電ド\")\n",
    "df = rename_studium(df, \"大分ス\", \"昭和電ド\")\n",
    "df = rename_studium(df, \"大銀ド\", \"昭和電ド\")\n",
    "df = rename_studium(df, \"福島\", \"とうスタ\")\n",
    "df = rename_studium(df, \"下関\", \"ＳＶ下関\")\n",
    "df = rename_studium(df, \"維新公園\", \"みらスタ\")\n",
    "df = rename_studium(df, \"鴨池\", \"白波スタ\")    # 鹿児島\n",
    "df = rename_studium(df, \"沖縄県陸\", \"タピスタ\") # 琉球"
   ]
  },
  {
   "cell_type": "code",
   "execution_count": 69,
   "metadata": {},
   "outputs": [
    {
     "data": {
      "text/plain": [
       "137"
      ]
     },
     "execution_count": 69,
     "metadata": {},
     "output_type": "execute_result"
    }
   ],
   "source": [
    "len(df[\"スタジアム\"].drop_duplicates())"
   ]
  },
  {
   "cell_type": "markdown",
   "metadata": {},
   "source": [
    "## データベースを更新\n",
    "\n",
    "修正済みのdfをデータベースに変換する。  \n",
    "レコード単位でやると面倒なので、ファイルごと置き換える。"
   ]
  },
  {
   "cell_type": "code",
   "execution_count": 70,
   "metadata": {},
   "outputs": [
    {
     "data": {
      "text/plain": [
       "18840"
      ]
     },
     "execution_count": 70,
     "metadata": {},
     "output_type": "execute_result"
    }
   ],
   "source": [
    "import os\n",
    "os.remove(DB_NAME)\n",
    "conn = sqlite3.connect(DB_NAME)\n",
    "df.to_sql(\"result\", conn)\n",
    "conn.close()"
   ]
  },
  {
   "cell_type": "markdown",
   "metadata": {},
   "source": [
    "# スクリプト化\n",
    "\n",
    "donwload.py内にデータ加工(processing)としてまとめた。  \n",
    "ダウンロード後、このノートブックの内容を実行せずに↓だけ実行すると、データ加工がおこなわれる。"
   ]
  },
  {
   "cell_type": "code",
   "execution_count": 71,
   "metadata": {},
   "outputs": [],
   "source": [
    "import download\n",
    "df = download.get_db_data()"
   ]
  },
  {
   "cell_type": "code",
   "execution_count": 72,
   "metadata": {},
   "outputs": [
    {
     "data": {
      "text/plain": [
       "137"
      ]
     },
     "execution_count": 72,
     "metadata": {},
     "output_type": "execute_result"
    }
   ],
   "source": [
    "len(df[\"スタジアム\"].drop_duplicates())"
   ]
  },
  {
   "cell_type": "code",
   "execution_count": 73,
   "metadata": {},
   "outputs": [],
   "source": [
    "import process_data\n",
    "df = process_data.processing_data(df)"
   ]
  },
  {
   "cell_type": "code",
   "execution_count": 74,
   "metadata": {},
   "outputs": [
    {
     "data": {
      "text/plain": [
       "137"
      ]
     },
     "execution_count": 74,
     "metadata": {},
     "output_type": "execute_result"
    }
   ],
   "source": [
    "len(df[\"スタジアム\"].drop_duplicates())"
   ]
  },
  {
   "cell_type": "markdown",
   "metadata": {},
   "source": [
    "いったん↓を実行すると、\n",
    "``` python\n",
    "df = download.get_db_data()\n",
    "```\n",
    "のみで以降加工済みデータが得られるようになる。"
   ]
  },
  {
   "cell_type": "code",
   "execution_count": 77,
   "metadata": {},
   "outputs": [],
   "source": [
    "process_data.db_update()"
   ]
  },
  {
   "cell_type": "markdown",
   "metadata": {},
   "source": [
    "再度やると、「インターネット中継・TV放送」の行は無いというエラーになる。"
   ]
  },
  {
   "cell_type": "code",
   "execution_count": 76,
   "metadata": {},
   "outputs": [
    {
     "data": {
      "text/plain": [
       "137"
      ]
     },
     "execution_count": 76,
     "metadata": {},
     "output_type": "execute_result"
    }
   ],
   "source": [
    "df = download.get_db_data()\n",
    "len(df[\"スタジアム\"].drop_duplicates())"
   ]
  }
 ],
 "metadata": {
  "kernelspec": {
   "display_name": "Python 3 (ipykernel)",
   "language": "python",
   "name": "python3"
  },
  "language_info": {
   "codemirror_mode": {
    "name": "ipython",
    "version": 3
   },
   "file_extension": ".py",
   "mimetype": "text/x-python",
   "name": "python",
   "nbconvert_exporter": "python",
   "pygments_lexer": "ipython3",
   "version": "3.8.13"
  }
 },
 "nbformat": 4,
 "nbformat_minor": 4
}
